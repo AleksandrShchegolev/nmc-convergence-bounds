{
 "cells": [
  {
   "cell_type": "markdown",
   "id": "f6efe06f-6791-4673-a9e2-bda1efe5524a",
   "metadata": {},
   "source": [
    "# On convergence rate bounds for a class of nonlinear Markov chains\n",
    "*Aleksandr Shchegolev, Alexander Veretennikov*"
   ]
  },
  {
   "cell_type": "code",
   "execution_count": 1,
   "id": "fc0b00e6-7864-4712-a25b-565e35e03525",
   "metadata": {},
   "outputs": [],
   "source": [
    "from typing import List, Tuple\n",
    "from itertools import product\n",
    "from sympy import Symbol, Matrix, Min, Max, Add, Abs, simplify, zeros, Mul, Rational, N\n",
    "from IPython.display import display"
   ]
  },
  {
   "cell_type": "markdown",
   "id": "411ff5bb-6d9f-400e-aee1-34f4892802d6",
   "metadata": {},
   "source": [
    "The function below takes transition probability matrix for a linear Markov chain $\\bar P_x$ as an input and returns a tuple that contains a matrix for a corresponding coupled process $\\bar V$, its eigenvalues and moduli of eigenvalues that are sorted in descending order."
   ]
  },
  {
   "cell_type": "code",
   "execution_count": 2,
   "id": "f76f5785-c12e-400c-bb6a-7d0efae39425",
   "metadata": {},
   "outputs": [],
   "source": [
    "def linear_coupled_process_spectral_radius(p: Matrix) -> Tuple[Matrix, List, List]:\n",
    "    process_dim = p.rows\n",
    "    coupled_ss = Mul(*p.shape) - process_dim\n",
    "\n",
    "    print(f\"The coupled process state space size is {coupled_ss}\")\n",
    "\n",
    "    prs = [list(x) for x in product(range(process_dim), repeat=2) if x[0] != x[1]]\n",
    "    print(f\"\\nPairs:\\n{prs}\")\n",
    "    coupl_proc = Matrix(zeros(*(coupled_ss, coupled_ss)))\n",
    "\n",
    "    alphas = []\n",
    "    for i in range(coupled_ss):\n",
    "        for j in range(coupled_ss):\n",
    "            alpha = Rational('0')\n",
    "            for k in range(process_dim):\n",
    "                alpha += Min(*(p[prs[i][0], k], p[prs[i][1], k]))\n",
    "            alphas.append(alpha)\n",
    "            coupl_proc[i, j] = ((p[prs[i][0], prs[j][0]] - Min(*(p[prs[i][0], prs[j][0]], p[prs[i][1], prs[j][0]]))) *\n",
    "                                (p[prs[i][1], prs[j][1]] - Min(\n",
    "                                    *(p[prs[i][1], prs[j][1]], p[prs[i][0], prs[j][1]])))) / (1 - Rational(f'{alpha}'))\n",
    "    print('\\nMarkov-Dobrushin 1-alpha:')\n",
    "    display(1 - min(alphas))\n",
    "    print(\"\\nCoupled process:\")\n",
    "    display(coupl_proc)\n",
    "\n",
    "    eigenvalues = list()\n",
    "    for x, y in coupl_proc.eigenvals().items():\n",
    "        for i in range(y):\n",
    "            eigenvalues.append(x)\n",
    "    eigenvalues = sorted(eigenvalues)[::-1]\n",
    "\n",
    "    print(\"\\nEigen values:\")\n",
    "    display(eigenvalues)\n",
    "\n",
    "    eigen_modulus = sorted([Abs(val) for val in eigenvalues])[::-1]\n",
    "    print(\"\\nEigen values modulus:\")\n",
    "    display(eigen_modulus)\n",
    "    return coupl_proc, eigenvalues, eigen_modulus"
   ]
  },
  {
   "cell_type": "markdown",
   "id": "8449aab6-fff9-46c4-8a3a-123f8319c343",
   "metadata": {},
   "source": [
    "The second function takes transition probability matrix for a linear Markov chain $\\bar P_x$ as an input and returns the estimate $1-\\bar\\alpha$."
   ]
  },
  {
   "cell_type": "code",
   "execution_count": 3,
   "id": "142af87b-c028-4220-80f4-5f819ddedf05",
   "metadata": {},
   "outputs": [],
   "source": [
    "def linear_markov_dobrushin_one_minus_alpha(p: Matrix) -> Tuple[Matrix, List, List]:\n",
    "    process_dim = p.rows\n",
    "    prs = [list(x) for x in product(range(process_dim), repeat=2) if x[0] != x[1]]\n",
    "\n",
    "    alphas = []\n",
    "    for i in range(len(prs)):\n",
    "        alpha = Rational('0')\n",
    "        for k in range(process_dim):\n",
    "            alpha += Min(*(p[prs[i][0], k], p[prs[i][1], k]))\n",
    "        alphas.append(alpha)\n",
    "    return 1 - min(alphas)"
   ]
  },
  {
   "cell_type": "markdown",
   "id": "d0fe89a2-3d63-4696-9671-f0561327b0d6",
   "metadata": {},
   "source": [
    "## Example 1"
   ]
  },
  {
   "cell_type": "markdown",
   "id": "8e164499-1033-4792-a297-abd4a36e35ea",
   "metadata": {},
   "source": [
    "Let us consider a discrete nMC with the state space $(E,\\mathcal{E}) = \\left(\\{1, 2, 3, 4\\}, 2^{\\{1, 2, 3, 4\\}}\\right)$, the initial distribution $\\mu_0 = (\\mu^0_1, \\mu^0_2, \\mu^0_3, \\mu^0_4)$ and transition probability matrix:\n",
    "$$P_{\\mu,x} = \n",
    "\\begin{pmatrix}\n",
    "0.4 - \\kappa \\mu_{1} & 0.2 & 0.2 + \\kappa \\mu_{1} & 0.2\\\\\n",
    "0.3 & 0.4 & 0.2 & 0.1\\\\\n",
    "0.2 & 0.2 & 0.4 & 0.2\\\\\n",
    "0.2 & 0.1 & 0.2 & 0.5\n",
    "\\end{pmatrix},\\quad\n",
    "\\bar P_x = \n",
    "\\begin{pmatrix}\n",
    "0.4 & 0.2 & 0.2 & 0.2\\\\\n",
    "0.3 & 0.4 & 0.2 & 0.1\\\\\n",
    "0.2 & 0.2 & 0.4 & 0.2\\\\\n",
    "0.2 & 0.1 & 0.2 & 0.5\n",
    "\\end{pmatrix},\n",
    "$$\n",
    "where $0 \\le \\kappa < 0.3$."
   ]
  },
  {
   "cell_type": "code",
   "execution_count": 4,
   "id": "d18d292b-7576-45f4-b91a-89058a8dd79a",
   "metadata": {},
   "outputs": [],
   "source": [
    "# Defining symbols\n",
    "kappa = Symbol('kappa')\n",
    "mu1, mu2, mu3, mu4 = Symbol('mu_1'), Symbol('mu_2'), Symbol('mu_3'), Symbol('mu_4')"
   ]
  },
  {
   "cell_type": "code",
   "execution_count": 5,
   "id": "34032e92-04f0-413a-83ea-029ece94bc82",
   "metadata": {},
   "outputs": [
    {
     "data": {
      "text/latex": [
       "$\\displaystyle \\left[\\begin{matrix}- \\kappa \\mu_{1} + \\frac{2}{5} & \\frac{1}{5} & \\kappa \\mu_{1} + \\frac{1}{5} & \\frac{1}{5}\\\\\\frac{3}{10} & \\frac{2}{5} & \\frac{1}{5} & \\frac{1}{10}\\\\\\frac{1}{5} & \\frac{1}{5} & \\frac{2}{5} & \\frac{1}{5}\\\\\\frac{1}{5} & \\frac{1}{10} & \\frac{1}{5} & \\frac{1}{2}\\end{matrix}\\right]$"
      ],
      "text/plain": [
       "Matrix([\n",
       "[-kappa*mu_1 + 2/5,  1/5, kappa*mu_1 + 1/5,  1/5],\n",
       "[             3/10,  2/5,              1/5, 1/10],\n",
       "[              1/5,  1/5,              2/5,  1/5],\n",
       "[              1/5, 1/10,              1/5,  1/2]])"
      ]
     },
     "execution_count": 5,
     "metadata": {},
     "output_type": "execute_result"
    }
   ],
   "source": [
    "# Defining nMC transition matrix\n",
    "p = Matrix([[Rational('0.4') - kappa * mu1, Rational('0.2'), Rational('0.2') + kappa * mu1, Rational('0.2')],\n",
    "            [Rational('0.3'), Rational('0.4'), Rational('0.2'), Rational('0.1')],\n",
    "            [Rational('0.2'), Rational('0.2'), Rational('0.4'), Rational('0.2')],\n",
    "            [Rational('0.2'), Rational('0.1'), Rational('0.2'), Rational('0.5')]])\n",
    "p"
   ]
  },
  {
   "cell_type": "code",
   "execution_count": 6,
   "id": "0355af11-0daa-4c07-b4bb-e0ec50cd1deb",
   "metadata": {},
   "outputs": [
    {
     "data": {
      "text/latex": [
       "$\\displaystyle \\left[\\begin{matrix}\\frac{2}{5} & \\frac{1}{5} & \\frac{1}{5} & \\frac{1}{5}\\\\\\frac{3}{10} & \\frac{2}{5} & \\frac{1}{5} & \\frac{1}{10}\\\\\\frac{1}{5} & \\frac{1}{5} & \\frac{2}{5} & \\frac{1}{5}\\\\\\frac{1}{5} & \\frac{1}{10} & \\frac{1}{5} & \\frac{1}{2}\\end{matrix}\\right]$"
      ],
      "text/plain": [
       "Matrix([\n",
       "[ 2/5,  1/5, 1/5,  1/5],\n",
       "[3/10,  2/5, 1/5, 1/10],\n",
       "[ 1/5,  1/5, 2/5,  1/5],\n",
       "[ 1/5, 1/10, 1/5,  1/2]])"
      ]
     },
     "execution_count": 6,
     "metadata": {},
     "output_type": "execute_result"
    }
   ],
   "source": [
    "# Defining linear MC transition matrix\n",
    "p_lin = Matrix([[Rational('0.4'), Rational('0.2'), Rational('0.2'), Rational('0.2')],\n",
    "                [Rational('0.3'), Rational('0.4'), Rational('0.2'), Rational('0.1')],\n",
    "                [Rational('0.2'), Rational('0.2'), Rational('0.4'), Rational('0.2')],\n",
    "                [Rational('0.2'), Rational('0.1'), Rational('0.2'), Rational('0.5')]])\n",
    "p_lin"
   ]
  },
  {
   "cell_type": "code",
   "execution_count": 7,
   "id": "b4ccd5aa-4454-420b-84df-b26f783ae2fa",
   "metadata": {},
   "outputs": [
    {
     "name": "stdout",
     "output_type": "stream",
     "text": [
      "All row sum equals to 1 for nMC: True\n",
      "All row sum equals to 1 for MC: True\n"
     ]
    }
   ],
   "source": [
    "print(f'All row sum equals to 1 for nMC: {all([Add(*p.row(row_num)) == 1 for row_num in range(p.rows)])}')\n",
    "print(f'All row sum equals to 1 for MC: {all([Add(*p_lin.row(row_num)) == 1 for row_num in range(p_lin.rows)])}')"
   ]
  },
  {
   "cell_type": "code",
   "execution_count": 8,
   "id": "a5590af9-dfc8-4b40-9e35-1f38a8f7659c",
   "metadata": {},
   "outputs": [
    {
     "name": "stdout",
     "output_type": "stream",
     "text": [
      "The coupled process state space size is 12\n",
      "\n",
      "Pairs:\n",
      "[[0, 1], [0, 2], [0, 3], [1, 0], [1, 2], [1, 3], [2, 0], [2, 1], [2, 3], [3, 0], [3, 1], [3, 2]]\n",
      "\n",
      "Markov-Dobrushin 1-alpha:\n"
     ]
    },
    {
     "data": {
      "text/latex": [
       "$\\displaystyle \\frac{2}{5}$"
      ],
      "text/plain": [
       "2/5"
      ]
     },
     "metadata": {},
     "output_type": "display_data"
    },
    {
     "name": "stdout",
     "output_type": "stream",
     "text": [
      "\n",
      "Coupled process:\n"
     ]
    },
    {
     "data": {
      "text/latex": [
       "$\\displaystyle \\left[\\begin{array}{cccccccccccc}\\frac{1}{10} & 0 & 0 & 0 & 0 & 0 & 0 & 0 & 0 & 0 & \\frac{1}{10} & 0\\\\0 & \\frac{1}{5} & 0 & 0 & 0 & 0 & 0 & 0 & 0 & 0 & 0 & 0\\\\0 & 0 & \\frac{1}{5} & 0 & 0 & \\frac{1}{10} & 0 & 0 & 0 & 0 & 0 & 0\\\\0 & 0 & 0 & \\frac{1}{10} & 0 & \\frac{1}{10} & 0 & 0 & 0 & 0 & 0 & 0\\\\0 & \\frac{1}{15} & \\frac{1}{30} & 0 & \\frac{2}{15} & \\frac{1}{15} & 0 & 0 & 0 & 0 & 0 & 0\\\\0 & 0 & \\frac{1}{10} & 0 & 0 & \\frac{3}{10} & 0 & 0 & 0 & 0 & 0 & 0\\\\0 & 0 & 0 & 0 & 0 & 0 & \\frac{1}{5} & 0 & 0 & 0 & 0 & 0\\\\0 & 0 & 0 & 0 & 0 & 0 & \\frac{1}{15} & \\frac{2}{15} & 0 & \\frac{1}{30} & \\frac{1}{15} & 0\\\\0 & 0 & 0 & 0 & 0 & \\frac{1}{10} & 0 & 0 & \\frac{1}{5} & 0 & 0 & 0\\\\0 & 0 & 0 & 0 & 0 & 0 & 0 & 0 & 0 & \\frac{1}{5} & \\frac{1}{10} & 0\\\\0 & 0 & 0 & 0 & 0 & 0 & 0 & 0 & 0 & \\frac{1}{10} & \\frac{3}{10} & 0\\\\0 & 0 & 0 & 0 & 0 & 0 & 0 & 0 & 0 & 0 & \\frac{1}{10} & \\frac{1}{5}\\end{array}\\right]$"
      ],
      "text/plain": [
       "Matrix([\n",
       "[1/10,    0,    0,    0,    0,    0,    0,    0,   0,    0, 1/10,   0],\n",
       "[   0,  1/5,    0,    0,    0,    0,    0,    0,   0,    0,    0,   0],\n",
       "[   0,    0,  1/5,    0,    0, 1/10,    0,    0,   0,    0,    0,   0],\n",
       "[   0,    0,    0, 1/10,    0, 1/10,    0,    0,   0,    0,    0,   0],\n",
       "[   0, 1/15, 1/30,    0, 2/15, 1/15,    0,    0,   0,    0,    0,   0],\n",
       "[   0,    0, 1/10,    0,    0, 3/10,    0,    0,   0,    0,    0,   0],\n",
       "[   0,    0,    0,    0,    0,    0,  1/5,    0,   0,    0,    0,   0],\n",
       "[   0,    0,    0,    0,    0,    0, 1/15, 2/15,   0, 1/30, 1/15,   0],\n",
       "[   0,    0,    0,    0,    0, 1/10,    0,    0, 1/5,    0,    0,   0],\n",
       "[   0,    0,    0,    0,    0,    0,    0,    0,   0,  1/5, 1/10,   0],\n",
       "[   0,    0,    0,    0,    0,    0,    0,    0,   0, 1/10, 3/10,   0],\n",
       "[   0,    0,    0,    0,    0,    0,    0,    0,   0,    0, 1/10, 1/5]])"
      ]
     },
     "metadata": {},
     "output_type": "display_data"
    },
    {
     "name": "stdout",
     "output_type": "stream",
     "text": [
      "\n",
      "Eigen values:\n"
     ]
    },
    {
     "data": {
      "text/plain": [
       "[sqrt(5)/20 + 1/4,\n",
       " sqrt(5)/20 + 1/4,\n",
       " 1/5,\n",
       " 1/5,\n",
       " 1/5,\n",
       " 1/5,\n",
       " 1/4 - sqrt(5)/20,\n",
       " 1/4 - sqrt(5)/20,\n",
       " 2/15,\n",
       " 2/15,\n",
       " 1/10,\n",
       " 1/10]"
      ]
     },
     "metadata": {},
     "output_type": "display_data"
    },
    {
     "name": "stdout",
     "output_type": "stream",
     "text": [
      "\n",
      "Eigen values modulus:\n"
     ]
    },
    {
     "data": {
      "text/plain": [
       "[sqrt(5)/20 + 1/4,\n",
       " sqrt(5)/20 + 1/4,\n",
       " 1/5,\n",
       " 1/5,\n",
       " 1/5,\n",
       " 1/5,\n",
       " 1/4 - sqrt(5)/20,\n",
       " 1/4 - sqrt(5)/20,\n",
       " 2/15,\n",
       " 2/15,\n",
       " 1/10,\n",
       " 1/10]"
      ]
     },
     "metadata": {},
     "output_type": "display_data"
    }
   ],
   "source": [
    "coupl_proc, eigenvalues, eigen_modulus = linear_coupled_process_spectral_radius(p_lin)"
   ]
  },
  {
   "cell_type": "markdown",
   "id": "5ff36165-f473-49e9-bd65-4d0d2ba9f18a",
   "metadata": {},
   "source": [
    "Spectral radius $r$ is equal to the greatest eigenvalue modulus."
   ]
  },
  {
   "cell_type": "code",
   "execution_count": 9,
   "id": "e7223e9b-0ff7-4a90-ac10-ac5808431f2e",
   "metadata": {},
   "outputs": [
    {
     "data": {
      "text/latex": [
       "$\\displaystyle 0.361803398874989$"
      ],
      "text/plain": [
       "0.361803398874989"
      ]
     },
     "execution_count": 9,
     "metadata": {},
     "output_type": "execute_result"
    }
   ],
   "source": [
    "r = [N(eig_mod) for eig_mod in eigen_modulus][0]\n",
    "r"
   ]
  },
  {
   "cell_type": "code",
   "execution_count": 10,
   "id": "d29bddb4-e2d3-4883-80a7-fda8eaf805e5",
   "metadata": {},
   "outputs": [
    {
     "data": {
      "text/latex": [
       "$\\displaystyle \\frac{2}{5}$"
      ],
      "text/plain": [
       "2/5"
      ]
     },
     "execution_count": 10,
     "metadata": {},
     "output_type": "execute_result"
    }
   ],
   "source": [
    "linear_markov_dobrushin_one_minus_alpha(p_lin)"
   ]
  },
  {
   "cell_type": "markdown",
   "id": "4127891b-9b2d-41e3-8296-664ab3bbe781",
   "metadata": {},
   "source": [
    "Let us calculate the values $1-\\alpha_2, 1-\\alpha_3, 1-\\alpha_4, 1-\\alpha_5$ compare them with $r^2, r^3, r^4, r^5$ respectively."
   ]
  },
  {
   "cell_type": "code",
   "execution_count": 11,
   "id": "517b206a-5576-45fd-982b-4013df9f87ed",
   "metadata": {},
   "outputs": [
    {
     "data": {
      "text/plain": [
       "[0.150000000000000,\n",
       " 0.0550000000000000,\n",
       " 0.0200000000000000,\n",
       " 0.00725000000000000]"
      ]
     },
     "execution_count": 11,
     "metadata": {},
     "output_type": "execute_result"
    }
   ],
   "source": [
    "[N(linear_markov_dobrushin_one_minus_alpha(p_lin ** y)) for y in range(2,6)]"
   ]
  },
  {
   "cell_type": "code",
   "execution_count": 12,
   "id": "574fcd03-a44c-46d8-9e94-c406bb9a4d9a",
   "metadata": {},
   "outputs": [
    {
     "data": {
      "text/plain": [
       "[0.130901699437495,\n",
       " 0.0473606797749979,\n",
       " 0.0171352549156242,\n",
       " 0.00619959346906221]"
      ]
     },
     "execution_count": 12,
     "metadata": {},
     "output_type": "execute_result"
    }
   ],
   "source": [
    "[r ** y for y in range(2,6)]"
   ]
  },
  {
   "cell_type": "markdown",
   "id": "09883bc9-0255-494d-bc8a-a7ce032fdd34",
   "metadata": {},
   "source": [
    "Therefore, $r = \\frac{\\sqrt{5}}{20} + \\frac{1}{4} \\approx 0.3618$, $r^2 \\approx 0.1309$, $r^3 \\approx 0.04736$, $r^4 \\approx 0.017135$ , $r^5 \\approx 0.0061996$, $1- \\bar\\alpha = 0.4$, $1- \\bar\\alpha_2 = 0.15$, $1 - \\bar\\alpha_3 = 0.055$, $1 - \\bar\\alpha_4 = 0.02$, $1 - \\bar\\alpha_5 = 0.00725$.\n",
    "We have $r < 1 - \\bar\\alpha = 1 - \\alpha$, $r^2 < 1-\\bar\\alpha_2$, $r^3 < 1-\\bar\\alpha_3$, $r^4 < 1-\\bar\\alpha_4$, $r^5 < 1-\\bar\\alpha_5$. This shows that the new assumption based on the spectral radius approach for linear MC and on nonlinear small perturbations is weaker that each of the MD conditions, at least, for $k=1, \\ldots, 5$."
   ]
  },
  {
   "cell_type": "markdown",
   "id": "4fbb97b6-0a6a-4a5a-b743-3bd6849d2e5b",
   "metadata": {},
   "source": [
    "## Example 2"
   ]
  },
  {
   "cell_type": "markdown",
   "id": "c92b2b80-7d7c-42b7-9b97-2b02c84499d7",
   "metadata": {},
   "source": [
    "Let us consider another discrete nMC with a bit more involved nonlinear components. Let the nMC have the state space $(E,\\mathcal{E}) = \\left(\\{1, 2, 3, 4, 5, 6\\}, 2^{\\{1, 2, 3, 4, 5, 6\\}}\\right)$, the initial distribution $\\mu_0 = (\\mu^0_1, \\mu^0_2, \\mu^0_3, \\mu^0_4, \\mu^0_5, \\mu^0_6)$ and transition probability matrix:\n",
    "\n",
    "$$P_{\\mu,x} = \n",
    "\\begin{pmatrix}\n",
    "0.4 - \\kappa\\mu_{1}& 0.2 + \\kappa\\mu_{1} & 0.1 & 0.1 & 0.1 & 0.1\\\\\n",
    "0.2 & 0.3 - \\kappa\\mu_{2}  & 0.2 + \\kappa\\mu_{2} & 0.1 & 0.1 & 0.1\\\\\n",
    "0.1 & 0.2 & 0.3 - \\kappa\\mu_{3} & 0.2 + \\kappa\\mu_{3} & 0.1 & 0.1\\\\\n",
    "0.1 & 0.1 & 0.2 & 0.3 - \\kappa\\mu_{4} & 0.2 + \\kappa\\mu_{4} & 0.1\\\\\n",
    "0.1 & 0.1 & 0.1 & 0.2 & 0.3 - \\kappa\\mu_{5} & 0.2 + \\kappa\\mu_{5}\\\\\n",
    "0.1 & 0.1 & 0.1 & 0.1 & 0.2 + \\kappa\\mu_{6} & 0.4 - \\kappa\\mu_{6}\n",
    "\\end{pmatrix},$$\n",
    "\n",
    "where $0 \\le \\kappa < 0.3$.\n",
    "\n",
    "The transition probability matrix for the corresponding linear Markov chain is\n",
    "$$\n",
    "\\bar P_x = \n",
    "\\begin{pmatrix}\n",
    "0.4 & 0.2 & 0.1 & 0.1 & 0.1 & 0.1\\\\\n",
    "0.2 & 0.3 & 0.2 & 0.1 & 0.1 & 0.1\\\\\n",
    "0.1 & 0.2 & 0.3 & 0.2 & 0.1 & 0.1\\\\\n",
    "0.1 & 0.1 & 0.2 & 0.3 & 0.2 & 0.1\\\\\n",
    "0.1 & 0.1 & 0.1 & 0.2 & 0.3 & 0.2\\\\\n",
    "0.1 & 0.1 & 0.1 & 0.1 & 0.2 & 0.4\n",
    "\\end{pmatrix}.\n",
    "$$"
   ]
  },
  {
   "cell_type": "code",
   "execution_count": 13,
   "id": "db3cb4d2-969c-49d8-8d45-c360f0c15654",
   "metadata": {},
   "outputs": [],
   "source": [
    "# Defining symbols\n",
    "kappa = Symbol('kappa')\n",
    "mu1, mu2, mu3, mu4, mu5, mu6 = Symbol('mu_1'), Symbol('mu_2'), Symbol('mu_3'), Symbol('mu_4'), Symbol('mu_5'), Symbol('mu_6')"
   ]
  },
  {
   "cell_type": "code",
   "execution_count": 14,
   "id": "1aef2802-0a9d-44f0-9af2-21f0400730a9",
   "metadata": {},
   "outputs": [
    {
     "data": {
      "text/latex": [
       "$\\displaystyle \\left[\\begin{matrix}- \\kappa \\mu_{1} + \\frac{2}{5} & \\kappa \\mu_{1} + \\frac{1}{5} & \\frac{1}{10} & \\frac{1}{10} & \\frac{1}{10} & \\frac{1}{10}\\\\\\frac{1}{5} & - \\kappa \\mu_{2} + \\frac{3}{10} & \\kappa \\mu_{2} + \\frac{1}{5} & \\frac{1}{10} & \\frac{1}{10} & \\frac{1}{10}\\\\\\frac{1}{10} & \\frac{1}{5} & - \\kappa \\mu_{3} + \\frac{3}{10} & \\kappa \\mu_{3} + \\frac{1}{5} & \\frac{1}{10} & \\frac{1}{10}\\\\\\frac{1}{10} & \\frac{1}{10} & \\frac{1}{5} & - \\kappa \\mu_{4} + \\frac{3}{10} & \\kappa \\mu_{4} + \\frac{1}{5} & \\frac{1}{10}\\\\\\frac{1}{10} & \\frac{1}{10} & \\frac{1}{10} & \\frac{1}{5} & - \\kappa \\mu_{5} + \\frac{3}{10} & \\kappa \\mu_{5} + \\frac{1}{5}\\\\\\frac{1}{10} & \\frac{1}{10} & \\frac{1}{10} & \\frac{1}{10} & \\kappa \\mu_{6} + \\frac{1}{5} & - \\kappa \\mu_{6} + \\frac{2}{5}\\end{matrix}\\right]$"
      ],
      "text/plain": [
       "Matrix([\n",
       "[-kappa*mu_1 + 2/5,   kappa*mu_1 + 1/5,               1/10,               1/10,               1/10,              1/10],\n",
       "[              1/5, -kappa*mu_2 + 3/10,   kappa*mu_2 + 1/5,               1/10,               1/10,              1/10],\n",
       "[             1/10,                1/5, -kappa*mu_3 + 3/10,   kappa*mu_3 + 1/5,               1/10,              1/10],\n",
       "[             1/10,               1/10,                1/5, -kappa*mu_4 + 3/10,   kappa*mu_4 + 1/5,              1/10],\n",
       "[             1/10,               1/10,               1/10,                1/5, -kappa*mu_5 + 3/10,  kappa*mu_5 + 1/5],\n",
       "[             1/10,               1/10,               1/10,               1/10,   kappa*mu_6 + 1/5, -kappa*mu_6 + 2/5]])"
      ]
     },
     "execution_count": 14,
     "metadata": {},
     "output_type": "execute_result"
    }
   ],
   "source": [
    "# Defining nMC transition matrix\n",
    "p = Matrix([[Rational('0.4') - kappa * mu1, Rational('0.2') + kappa * mu1, Rational('0.1'), Rational('0.1'), Rational('0.1'), Rational('0.1')],\n",
    "            [Rational('0.2'), Rational('0.3')- kappa * mu2, Rational('0.2') + kappa * mu2, Rational('0.1'), Rational('0.1'), Rational('0.1')],\n",
    "            [Rational('0.1'), Rational('0.2'), Rational('0.3')- kappa * mu3, Rational('0.2') + kappa * mu3, Rational('0.1'), Rational('0.1')],\n",
    "            [Rational('0.1'), Rational('0.1'), Rational('0.2'), Rational('0.3') - kappa * mu4, Rational('0.2') + kappa * mu4, Rational('0.1')],\n",
    "            [Rational('0.1'), Rational('0.1'), Rational('0.1'), Rational('0.2'), Rational('0.3') - kappa * mu5, Rational('0.2') + kappa * mu5],\n",
    "            [Rational('0.1'), Rational('0.1'), Rational('0.1'), Rational('0.1'), Rational('0.2') + kappa * mu6, Rational('0.4') - kappa * mu6]])\n",
    "p"
   ]
  },
  {
   "cell_type": "code",
   "execution_count": 15,
   "id": "89cd53d2-5de6-4a47-92f2-9c267955cec6",
   "metadata": {},
   "outputs": [
    {
     "data": {
      "text/latex": [
       "$\\displaystyle \\left[\\begin{matrix}\\frac{2}{5} & \\frac{1}{5} & \\frac{1}{10} & \\frac{1}{10} & \\frac{1}{10} & \\frac{1}{10}\\\\\\frac{1}{5} & \\frac{3}{10} & \\frac{1}{5} & \\frac{1}{10} & \\frac{1}{10} & \\frac{1}{10}\\\\\\frac{1}{10} & \\frac{1}{5} & \\frac{3}{10} & \\frac{1}{5} & \\frac{1}{10} & \\frac{1}{10}\\\\\\frac{1}{10} & \\frac{1}{10} & \\frac{1}{5} & \\frac{3}{10} & \\frac{1}{5} & \\frac{1}{10}\\\\\\frac{1}{10} & \\frac{1}{10} & \\frac{1}{10} & \\frac{1}{5} & \\frac{3}{10} & \\frac{1}{5}\\\\\\frac{1}{10} & \\frac{1}{10} & \\frac{1}{10} & \\frac{1}{10} & \\frac{1}{5} & \\frac{2}{5}\\end{matrix}\\right]$"
      ],
      "text/plain": [
       "Matrix([\n",
       "[ 2/5,  1/5, 1/10, 1/10, 1/10, 1/10],\n",
       "[ 1/5, 3/10,  1/5, 1/10, 1/10, 1/10],\n",
       "[1/10,  1/5, 3/10,  1/5, 1/10, 1/10],\n",
       "[1/10, 1/10,  1/5, 3/10,  1/5, 1/10],\n",
       "[1/10, 1/10, 1/10,  1/5, 3/10,  1/5],\n",
       "[1/10, 1/10, 1/10, 1/10,  1/5,  2/5]])"
      ]
     },
     "execution_count": 15,
     "metadata": {},
     "output_type": "execute_result"
    }
   ],
   "source": [
    "# Defining linear MC transition matrix\n",
    "p_lin = Matrix([[Rational('0.4'), Rational('0.2'), Rational('0.1'), Rational('0.1'), Rational('0.1'), Rational('0.1')],\n",
    "                [Rational('0.2'), Rational('0.3'), Rational('0.2'), Rational('0.1'), Rational('0.1'), Rational('0.1')],\n",
    "                [Rational('0.1'), Rational('0.2'), Rational('0.3'), Rational('0.2'), Rational('0.1'), Rational('0.1')],\n",
    "                [Rational('0.1'), Rational('0.1'), Rational('0.2'), Rational('0.3'), Rational('0.2'), Rational('0.1')],\n",
    "                [Rational('0.1'), Rational('0.1'), Rational('0.1'), Rational('0.2'), Rational('0.3'), Rational('0.2')],\n",
    "                [Rational('0.1'), Rational('0.1'), Rational('0.1'), Rational('0.1'), Rational('0.2'), Rational('0.4')]])\n",
    "p_lin"
   ]
  },
  {
   "cell_type": "code",
   "execution_count": 16,
   "id": "13228292-21d6-487a-9c60-89f64470fdca",
   "metadata": {},
   "outputs": [
    {
     "name": "stdout",
     "output_type": "stream",
     "text": [
      "All row sum equals to 1 for nMC: True\n",
      "All row sum equals to 1 for MC: True\n"
     ]
    }
   ],
   "source": [
    "print(f'All row sum equals to 1 for nMC: {all([Add(*p.row(row_num)) == 1 for row_num in range(p.rows)])}')\n",
    "print(f'All row sum equals to 1 for MC: {all([Add(*p_lin.row(row_num)) == 1 for row_num in range(p_lin.rows)])}')"
   ]
  },
  {
   "cell_type": "code",
   "execution_count": 17,
   "id": "a9d719ad-79bf-4ca8-a0a8-4f84530c1e9c",
   "metadata": {},
   "outputs": [
    {
     "name": "stdout",
     "output_type": "stream",
     "text": [
      "The coupled process state space size is 30\n",
      "\n",
      "Pairs:\n",
      "[[0, 1], [0, 2], [0, 3], [0, 4], [0, 5], [1, 0], [1, 2], [1, 3], [1, 4], [1, 5], [2, 0], [2, 1], [2, 3], [2, 4], [2, 5], [3, 0], [3, 1], [3, 2], [3, 4], [3, 5], [4, 0], [4, 1], [4, 2], [4, 3], [4, 5], [5, 0], [5, 1], [5, 2], [5, 3], [5, 4]]\n",
      "\n",
      "Markov-Dobrushin 1-alpha:\n"
     ]
    },
    {
     "data": {
      "text/latex": [
       "$\\displaystyle \\frac{2}{5}$"
      ],
      "text/plain": [
       "2/5"
      ]
     },
     "metadata": {},
     "output_type": "display_data"
    },
    {
     "name": "stdout",
     "output_type": "stream",
     "text": [
      "\n",
      "Coupled process:\n"
     ]
    },
    {
     "data": {
      "text/latex": [
       "$\\displaystyle \\left[\\begin{array}{cccccccccccccccccccccccccccccc}\\frac{1}{10} & \\frac{1}{10} & 0 & 0 & 0 & 0 & 0 & 0 & 0 & 0 & 0 & 0 & 0 & 0 & 0 & 0 & 0 & 0 & 0 & 0 & 0 & 0 & 0 & 0 & 0 & 0 & 0 & 0 & 0 & 0\\\\0 & \\frac{1}{5} & \\frac{1}{10} & 0 & 0 & 0 & 0 & 0 & 0 & 0 & 0 & 0 & 0 & 0 & 0 & 0 & 0 & 0 & 0 & 0 & 0 & 0 & 0 & 0 & 0 & 0 & 0 & 0 & 0 & 0\\\\0 & \\frac{3}{40} & \\frac{3}{20} & \\frac{3}{40} & 0 & 0 & \\frac{1}{40} & \\frac{1}{20} & \\frac{1}{40} & 0 & 0 & 0 & 0 & 0 & 0 & 0 & 0 & 0 & 0 & 0 & 0 & 0 & 0 & 0 & 0 & 0 & 0 & 0 & 0 & 0\\\\0 & 0 & \\frac{3}{40} & \\frac{3}{20} & \\frac{3}{40} & 0 & 0 & \\frac{1}{40} & \\frac{1}{20} & \\frac{1}{40} & 0 & 0 & 0 & 0 & 0 & 0 & 0 & 0 & 0 & 0 & 0 & 0 & 0 & 0 & 0 & 0 & 0 & 0 & 0 & 0\\\\0 & 0 & 0 & \\frac{3}{40} & \\frac{9}{40} & 0 & 0 & 0 & \\frac{1}{40} & \\frac{3}{40} & 0 & 0 & 0 & 0 & 0 & 0 & 0 & 0 & 0 & 0 & 0 & 0 & 0 & 0 & 0 & 0 & 0 & 0 & 0 & 0\\\\0 & 0 & 0 & 0 & 0 & \\frac{1}{10} & 0 & 0 & 0 & 0 & \\frac{1}{10} & 0 & 0 & 0 & 0 & 0 & 0 & 0 & 0 & 0 & 0 & 0 & 0 & 0 & 0 & 0 & 0 & 0 & 0 & 0\\\\0 & \\frac{1}{20} & \\frac{1}{20} & 0 & 0 & 0 & \\frac{1}{20} & \\frac{1}{20} & 0 & 0 & 0 & 0 & 0 & 0 & 0 & 0 & 0 & 0 & 0 & 0 & 0 & 0 & 0 & 0 & 0 & 0 & 0 & 0 & 0 & 0\\\\0 & 0 & \\frac{1}{15} & \\frac{1}{30} & 0 & 0 & 0 & \\frac{2}{15} & \\frac{1}{15} & 0 & 0 & 0 & 0 & 0 & 0 & 0 & 0 & 0 & 0 & 0 & 0 & 0 & 0 & 0 & 0 & 0 & 0 & 0 & 0 & 0\\\\0 & 0 & \\frac{1}{40} & \\frac{1}{20} & \\frac{1}{40} & 0 & 0 & \\frac{1}{20} & \\frac{1}{10} & \\frac{1}{20} & 0 & 0 & \\frac{1}{40} & \\frac{1}{20} & \\frac{1}{40} & 0 & 0 & 0 & 0 & 0 & 0 & 0 & 0 & 0 & 0 & 0 & 0 & 0 & 0 & 0\\\\0 & 0 & 0 & \\frac{1}{40} & \\frac{3}{40} & 0 & 0 & 0 & \\frac{1}{20} & \\frac{3}{20} & 0 & 0 & 0 & \\frac{1}{40} & \\frac{3}{40} & 0 & 0 & 0 & 0 & 0 & 0 & 0 & 0 & 0 & 0 & 0 & 0 & 0 & 0 & 0\\\\0 & 0 & 0 & 0 & 0 & 0 & 0 & 0 & 0 & 0 & \\frac{1}{5} & 0 & 0 & 0 & 0 & \\frac{1}{10} & 0 & 0 & 0 & 0 & 0 & 0 & 0 & 0 & 0 & 0 & 0 & 0 & 0 & 0\\\\0 & 0 & 0 & 0 & 0 & 0 & 0 & 0 & 0 & 0 & \\frac{1}{20} & \\frac{1}{20} & 0 & 0 & 0 & \\frac{1}{20} & \\frac{1}{20} & 0 & 0 & 0 & 0 & 0 & 0 & 0 & 0 & 0 & 0 & 0 & 0 & 0\\\\0 & 0 & 0 & 0 & 0 & 0 & 0 & \\frac{1}{20} & \\frac{1}{20} & 0 & 0 & 0 & \\frac{1}{20} & \\frac{1}{20} & 0 & 0 & 0 & 0 & 0 & 0 & 0 & 0 & 0 & 0 & 0 & 0 & 0 & 0 & 0 & 0\\\\0 & 0 & 0 & 0 & 0 & 0 & 0 & 0 & \\frac{1}{15} & \\frac{1}{30} & 0 & 0 & 0 & \\frac{2}{15} & \\frac{1}{15} & 0 & 0 & 0 & 0 & 0 & 0 & 0 & 0 & 0 & 0 & 0 & 0 & 0 & 0 & 0\\\\0 & 0 & 0 & 0 & 0 & 0 & 0 & 0 & \\frac{1}{40} & \\frac{3}{40} & 0 & 0 & 0 & \\frac{1}{20} & \\frac{3}{20} & 0 & 0 & 0 & \\frac{1}{40} & \\frac{3}{40} & 0 & 0 & 0 & 0 & 0 & 0 & 0 & 0 & 0 & 0\\\\0 & 0 & 0 & 0 & 0 & 0 & 0 & 0 & 0 & 0 & \\frac{3}{40} & \\frac{1}{40} & 0 & 0 & 0 & \\frac{3}{20} & \\frac{1}{20} & 0 & 0 & 0 & \\frac{3}{40} & \\frac{1}{40} & 0 & 0 & 0 & 0 & 0 & 0 & 0 & 0\\\\0 & 0 & 0 & 0 & 0 & 0 & 0 & 0 & 0 & 0 & 0 & 0 & 0 & 0 & 0 & \\frac{1}{15} & \\frac{2}{15} & 0 & 0 & 0 & \\frac{1}{30} & \\frac{1}{15} & 0 & 0 & 0 & 0 & 0 & 0 & 0 & 0\\\\0 & 0 & 0 & 0 & 0 & 0 & 0 & 0 & 0 & 0 & 0 & 0 & 0 & 0 & 0 & 0 & \\frac{1}{20} & \\frac{1}{20} & 0 & 0 & 0 & \\frac{1}{20} & \\frac{1}{20} & 0 & 0 & 0 & 0 & 0 & 0 & 0\\\\0 & 0 & 0 & 0 & 0 & 0 & 0 & 0 & 0 & 0 & 0 & 0 & 0 & \\frac{1}{20} & \\frac{1}{20} & 0 & 0 & 0 & \\frac{1}{20} & \\frac{1}{20} & 0 & 0 & 0 & 0 & 0 & 0 & 0 & 0 & 0 & 0\\\\0 & 0 & 0 & 0 & 0 & 0 & 0 & 0 & 0 & 0 & 0 & 0 & 0 & 0 & \\frac{1}{10} & 0 & 0 & 0 & 0 & \\frac{1}{5} & 0 & 0 & 0 & 0 & 0 & 0 & 0 & 0 & 0 & 0\\\\0 & 0 & 0 & 0 & 0 & 0 & 0 & 0 & 0 & 0 & 0 & 0 & 0 & 0 & 0 & \\frac{3}{40} & \\frac{1}{40} & 0 & 0 & 0 & \\frac{3}{20} & \\frac{1}{20} & 0 & 0 & 0 & \\frac{3}{40} & \\frac{1}{40} & 0 & 0 & 0\\\\0 & 0 & 0 & 0 & 0 & 0 & 0 & 0 & 0 & 0 & 0 & 0 & 0 & 0 & 0 & \\frac{1}{40} & \\frac{1}{20} & \\frac{1}{40} & 0 & 0 & \\frac{1}{20} & \\frac{1}{10} & \\frac{1}{20} & 0 & 0 & \\frac{1}{40} & \\frac{1}{20} & \\frac{1}{40} & 0 & 0\\\\0 & 0 & 0 & 0 & 0 & 0 & 0 & 0 & 0 & 0 & 0 & 0 & 0 & 0 & 0 & 0 & 0 & 0 & 0 & 0 & 0 & \\frac{1}{15} & \\frac{2}{15} & 0 & 0 & 0 & \\frac{1}{30} & \\frac{1}{15} & 0 & 0\\\\0 & 0 & 0 & 0 & 0 & 0 & 0 & 0 & 0 & 0 & 0 & 0 & 0 & 0 & 0 & 0 & 0 & 0 & 0 & 0 & 0 & 0 & \\frac{1}{20} & \\frac{1}{20} & 0 & 0 & 0 & \\frac{1}{20} & \\frac{1}{20} & 0\\\\0 & 0 & 0 & 0 & 0 & 0 & 0 & 0 & 0 & 0 & 0 & 0 & 0 & 0 & 0 & 0 & 0 & 0 & 0 & \\frac{1}{10} & 0 & 0 & 0 & 0 & \\frac{1}{10} & 0 & 0 & 0 & 0 & 0\\\\0 & 0 & 0 & 0 & 0 & 0 & 0 & 0 & 0 & 0 & 0 & 0 & 0 & 0 & 0 & 0 & 0 & 0 & 0 & 0 & \\frac{3}{40} & \\frac{1}{40} & 0 & 0 & 0 & \\frac{9}{40} & \\frac{3}{40} & 0 & 0 & 0\\\\0 & 0 & 0 & 0 & 0 & 0 & 0 & 0 & 0 & 0 & 0 & 0 & 0 & 0 & 0 & 0 & 0 & 0 & 0 & 0 & \\frac{1}{40} & \\frac{1}{20} & \\frac{1}{40} & 0 & 0 & \\frac{3}{40} & \\frac{3}{20} & \\frac{3}{40} & 0 & 0\\\\0 & 0 & 0 & 0 & 0 & 0 & 0 & 0 & 0 & 0 & 0 & 0 & 0 & 0 & 0 & 0 & 0 & 0 & 0 & 0 & 0 & \\frac{1}{40} & \\frac{1}{20} & \\frac{1}{40} & 0 & 0 & \\frac{3}{40} & \\frac{3}{20} & \\frac{3}{40} & 0\\\\0 & 0 & 0 & 0 & 0 & 0 & 0 & 0 & 0 & 0 & 0 & 0 & 0 & 0 & 0 & 0 & 0 & 0 & 0 & 0 & 0 & 0 & 0 & 0 & 0 & 0 & 0 & \\frac{1}{10} & \\frac{1}{5} & 0\\\\0 & 0 & 0 & 0 & 0 & 0 & 0 & 0 & 0 & 0 & 0 & 0 & 0 & 0 & 0 & 0 & 0 & 0 & 0 & 0 & 0 & 0 & 0 & 0 & 0 & 0 & 0 & 0 & \\frac{1}{10} & \\frac{1}{10}\\end{array}\\right]$"
      ],
      "text/plain": [
       "Matrix([\n",
       "[1/10, 1/10,    0,    0,    0,    0,    0,    0,    0,    0,    0,    0,    0,    0,    0,    0,    0,    0,    0,    0,    0,    0,    0,    0,    0,    0,    0,    0,    0,    0],\n",
       "[   0,  1/5, 1/10,    0,    0,    0,    0,    0,    0,    0,    0,    0,    0,    0,    0,    0,    0,    0,    0,    0,    0,    0,    0,    0,    0,    0,    0,    0,    0,    0],\n",
       "[   0, 3/40, 3/20, 3/40,    0,    0, 1/40, 1/20, 1/40,    0,    0,    0,    0,    0,    0,    0,    0,    0,    0,    0,    0,    0,    0,    0,    0,    0,    0,    0,    0,    0],\n",
       "[   0,    0, 3/40, 3/20, 3/40,    0,    0, 1/40, 1/20, 1/40,    0,    0,    0,    0,    0,    0,    0,    0,    0,    0,    0,    0,    0,    0,    0,    0,    0,    0,    0,    0],\n",
       "[   0,    0,    0, 3/40, 9/40,    0,    0,    0, 1/40, 3/40,    0,    0,    0,    0,    0,    0,    0,    0,    0,    0,    0,    0,    0,    0,    0,    0,    0,    0,    0,    0],\n",
       "[   0,    0,    0,    0,    0, 1/10,    0,    0,    0,    0, 1/10,    0,    0,    0,    0,    0,    0,    0,    0,    0,    0,    0,    0,    0,    0,    0,    0,    0,    0,    0],\n",
       "[   0, 1/20, 1/20,    0,    0,    0, 1/20, 1/20,    0,    0,    0,    0,    0,    0,    0,    0,    0,    0,    0,    0,    0,    0,    0,    0,    0,    0,    0,    0,    0,    0],\n",
       "[   0,    0, 1/15, 1/30,    0,    0,    0, 2/15, 1/15,    0,    0,    0,    0,    0,    0,    0,    0,    0,    0,    0,    0,    0,    0,    0,    0,    0,    0,    0,    0,    0],\n",
       "[   0,    0, 1/40, 1/20, 1/40,    0,    0, 1/20, 1/10, 1/20,    0,    0, 1/40, 1/20, 1/40,    0,    0,    0,    0,    0,    0,    0,    0,    0,    0,    0,    0,    0,    0,    0],\n",
       "[   0,    0,    0, 1/40, 3/40,    0,    0,    0, 1/20, 3/20,    0,    0,    0, 1/40, 3/40,    0,    0,    0,    0,    0,    0,    0,    0,    0,    0,    0,    0,    0,    0,    0],\n",
       "[   0,    0,    0,    0,    0,    0,    0,    0,    0,    0,  1/5,    0,    0,    0,    0, 1/10,    0,    0,    0,    0,    0,    0,    0,    0,    0,    0,    0,    0,    0,    0],\n",
       "[   0,    0,    0,    0,    0,    0,    0,    0,    0,    0, 1/20, 1/20,    0,    0,    0, 1/20, 1/20,    0,    0,    0,    0,    0,    0,    0,    0,    0,    0,    0,    0,    0],\n",
       "[   0,    0,    0,    0,    0,    0,    0, 1/20, 1/20,    0,    0,    0, 1/20, 1/20,    0,    0,    0,    0,    0,    0,    0,    0,    0,    0,    0,    0,    0,    0,    0,    0],\n",
       "[   0,    0,    0,    0,    0,    0,    0,    0, 1/15, 1/30,    0,    0,    0, 2/15, 1/15,    0,    0,    0,    0,    0,    0,    0,    0,    0,    0,    0,    0,    0,    0,    0],\n",
       "[   0,    0,    0,    0,    0,    0,    0,    0, 1/40, 3/40,    0,    0,    0, 1/20, 3/20,    0,    0,    0, 1/40, 3/40,    0,    0,    0,    0,    0,    0,    0,    0,    0,    0],\n",
       "[   0,    0,    0,    0,    0,    0,    0,    0,    0,    0, 3/40, 1/40,    0,    0,    0, 3/20, 1/20,    0,    0,    0, 3/40, 1/40,    0,    0,    0,    0,    0,    0,    0,    0],\n",
       "[   0,    0,    0,    0,    0,    0,    0,    0,    0,    0,    0,    0,    0,    0,    0, 1/15, 2/15,    0,    0,    0, 1/30, 1/15,    0,    0,    0,    0,    0,    0,    0,    0],\n",
       "[   0,    0,    0,    0,    0,    0,    0,    0,    0,    0,    0,    0,    0,    0,    0,    0, 1/20, 1/20,    0,    0,    0, 1/20, 1/20,    0,    0,    0,    0,    0,    0,    0],\n",
       "[   0,    0,    0,    0,    0,    0,    0,    0,    0,    0,    0,    0,    0, 1/20, 1/20,    0,    0,    0, 1/20, 1/20,    0,    0,    0,    0,    0,    0,    0,    0,    0,    0],\n",
       "[   0,    0,    0,    0,    0,    0,    0,    0,    0,    0,    0,    0,    0,    0, 1/10,    0,    0,    0,    0,  1/5,    0,    0,    0,    0,    0,    0,    0,    0,    0,    0],\n",
       "[   0,    0,    0,    0,    0,    0,    0,    0,    0,    0,    0,    0,    0,    0,    0, 3/40, 1/40,    0,    0,    0, 3/20, 1/20,    0,    0,    0, 3/40, 1/40,    0,    0,    0],\n",
       "[   0,    0,    0,    0,    0,    0,    0,    0,    0,    0,    0,    0,    0,    0,    0, 1/40, 1/20, 1/40,    0,    0, 1/20, 1/10, 1/20,    0,    0, 1/40, 1/20, 1/40,    0,    0],\n",
       "[   0,    0,    0,    0,    0,    0,    0,    0,    0,    0,    0,    0,    0,    0,    0,    0,    0,    0,    0,    0,    0, 1/15, 2/15,    0,    0,    0, 1/30, 1/15,    0,    0],\n",
       "[   0,    0,    0,    0,    0,    0,    0,    0,    0,    0,    0,    0,    0,    0,    0,    0,    0,    0,    0,    0,    0,    0, 1/20, 1/20,    0,    0,    0, 1/20, 1/20,    0],\n",
       "[   0,    0,    0,    0,    0,    0,    0,    0,    0,    0,    0,    0,    0,    0,    0,    0,    0,    0,    0, 1/10,    0,    0,    0,    0, 1/10,    0,    0,    0,    0,    0],\n",
       "[   0,    0,    0,    0,    0,    0,    0,    0,    0,    0,    0,    0,    0,    0,    0,    0,    0,    0,    0,    0, 3/40, 1/40,    0,    0,    0, 9/40, 3/40,    0,    0,    0],\n",
       "[   0,    0,    0,    0,    0,    0,    0,    0,    0,    0,    0,    0,    0,    0,    0,    0,    0,    0,    0,    0, 1/40, 1/20, 1/40,    0,    0, 3/40, 3/20, 3/40,    0,    0],\n",
       "[   0,    0,    0,    0,    0,    0,    0,    0,    0,    0,    0,    0,    0,    0,    0,    0,    0,    0,    0,    0,    0, 1/40, 1/20, 1/40,    0,    0, 3/40, 3/20, 3/40,    0],\n",
       "[   0,    0,    0,    0,    0,    0,    0,    0,    0,    0,    0,    0,    0,    0,    0,    0,    0,    0,    0,    0,    0,    0,    0,    0,    0,    0,    0, 1/10,  1/5,    0],\n",
       "[   0,    0,    0,    0,    0,    0,    0,    0,    0,    0,    0,    0,    0,    0,    0,    0,    0,    0,    0,    0,    0,    0,    0,    0,    0,    0,    0,    0, 1/10, 1/10]])"
      ]
     },
     "metadata": {},
     "output_type": "display_data"
    },
    {
     "name": "stdout",
     "output_type": "stream",
     "text": [
      "\n",
      "Eigen values:\n"
     ]
    },
    {
     "data": {
      "text/plain": [
       "[CRootOf(100*lambda**2 - 40*lambda + 1, 1),\n",
       " CRootOf(100*lambda**2 - 40*lambda + 1, 1),\n",
       " 3/10,\n",
       " 3/10,\n",
       " CRootOf(76800000*lambda**5 - 37120000*lambda**4 + 5680000*lambda**3 - 366400*lambda**2 + 10190*lambda - 101, 4),\n",
       " CRootOf(76800000*lambda**5 - 37120000*lambda**4 + 5680000*lambda**3 - 366400*lambda**2 + 10190*lambda - 101, 4),\n",
       " 1/5,\n",
       " 1/5,\n",
       " CRootOf(1600*lambda**2 - 360*lambda + 13, 1),\n",
       " CRootOf(1600*lambda**2 - 360*lambda + 13, 1),\n",
       " 1/10,\n",
       " 1/10,\n",
       " 1/10,\n",
       " 1/10,\n",
       " 1/10,\n",
       " 1/10,\n",
       " CRootOf(76800000*lambda**5 - 37120000*lambda**4 + 5680000*lambda**3 - 366400*lambda**2 + 10190*lambda - 101, 3),\n",
       " CRootOf(76800000*lambda**5 - 37120000*lambda**4 + 5680000*lambda**3 - 366400*lambda**2 + 10190*lambda - 101, 3),\n",
       " CRootOf(76800000*lambda**5 - 37120000*lambda**4 + 5680000*lambda**3 - 366400*lambda**2 + 10190*lambda - 101, 2),\n",
       " CRootOf(76800000*lambda**5 - 37120000*lambda**4 + 5680000*lambda**3 - 366400*lambda**2 + 10190*lambda - 101, 2),\n",
       " CRootOf(1600*lambda**2 - 360*lambda + 13, 0),\n",
       " CRootOf(1600*lambda**2 - 360*lambda + 13, 0),\n",
       " 1/30,\n",
       " 1/30,\n",
       " CRootOf(76800000*lambda**5 - 37120000*lambda**4 + 5680000*lambda**3 - 366400*lambda**2 + 10190*lambda - 101, 1),\n",
       " CRootOf(76800000*lambda**5 - 37120000*lambda**4 + 5680000*lambda**3 - 366400*lambda**2 + 10190*lambda - 101, 1),\n",
       " CRootOf(100*lambda**2 - 40*lambda + 1, 0),\n",
       " CRootOf(100*lambda**2 - 40*lambda + 1, 0),\n",
       " CRootOf(76800000*lambda**5 - 37120000*lambda**4 + 5680000*lambda**3 - 366400*lambda**2 + 10190*lambda - 101, 0),\n",
       " CRootOf(76800000*lambda**5 - 37120000*lambda**4 + 5680000*lambda**3 - 366400*lambda**2 + 10190*lambda - 101, 0)]"
      ]
     },
     "metadata": {},
     "output_type": "display_data"
    },
    {
     "name": "stdout",
     "output_type": "stream",
     "text": [
      "\n",
      "Eigen values modulus:\n"
     ]
    },
    {
     "data": {
      "text/plain": [
       "[CRootOf(100*lambda**2 - 40*lambda + 1, 1),\n",
       " CRootOf(100*lambda**2 - 40*lambda + 1, 1),\n",
       " 3/10,\n",
       " 3/10,\n",
       " CRootOf(76800000*lambda**5 - 37120000*lambda**4 + 5680000*lambda**3 - 366400*lambda**2 + 10190*lambda - 101, 4),\n",
       " CRootOf(76800000*lambda**5 - 37120000*lambda**4 + 5680000*lambda**3 - 366400*lambda**2 + 10190*lambda - 101, 4),\n",
       " 1/5,\n",
       " 1/5,\n",
       " CRootOf(1600*lambda**2 - 360*lambda + 13, 1),\n",
       " CRootOf(1600*lambda**2 - 360*lambda + 13, 1),\n",
       " 1/10,\n",
       " 1/10,\n",
       " 1/10,\n",
       " 1/10,\n",
       " 1/10,\n",
       " 1/10,\n",
       " CRootOf(76800000*lambda**5 - 37120000*lambda**4 + 5680000*lambda**3 - 366400*lambda**2 + 10190*lambda - 101, 3),\n",
       " CRootOf(76800000*lambda**5 - 37120000*lambda**4 + 5680000*lambda**3 - 366400*lambda**2 + 10190*lambda - 101, 3),\n",
       " CRootOf(76800000*lambda**5 - 37120000*lambda**4 + 5680000*lambda**3 - 366400*lambda**2 + 10190*lambda - 101, 2),\n",
       " CRootOf(76800000*lambda**5 - 37120000*lambda**4 + 5680000*lambda**3 - 366400*lambda**2 + 10190*lambda - 101, 2),\n",
       " CRootOf(1600*lambda**2 - 360*lambda + 13, 0),\n",
       " CRootOf(1600*lambda**2 - 360*lambda + 13, 0),\n",
       " 1/30,\n",
       " 1/30,\n",
       " CRootOf(76800000*lambda**5 - 37120000*lambda**4 + 5680000*lambda**3 - 366400*lambda**2 + 10190*lambda - 101, 1),\n",
       " CRootOf(76800000*lambda**5 - 37120000*lambda**4 + 5680000*lambda**3 - 366400*lambda**2 + 10190*lambda - 101, 1),\n",
       " CRootOf(100*lambda**2 - 40*lambda + 1, 0),\n",
       " CRootOf(100*lambda**2 - 40*lambda + 1, 0),\n",
       " CRootOf(76800000*lambda**5 - 37120000*lambda**4 + 5680000*lambda**3 - 366400*lambda**2 + 10190*lambda - 101, 0),\n",
       " CRootOf(76800000*lambda**5 - 37120000*lambda**4 + 5680000*lambda**3 - 366400*lambda**2 + 10190*lambda - 101, 0)]"
      ]
     },
     "metadata": {},
     "output_type": "display_data"
    }
   ],
   "source": [
    "coupl_proc, eigenvalues, eigen_modulus = linear_coupled_process_spectral_radius(p_lin)"
   ]
  },
  {
   "cell_type": "markdown",
   "id": "6933478a-9f54-4186-9bb8-975aac92c82f",
   "metadata": {},
   "source": [
    "Spectral radius $r$ is equal to the greatest eigenvalue modulus."
   ]
  },
  {
   "cell_type": "code",
   "execution_count": 18,
   "id": "83f46040-7644-4b22-99b7-ee4f24c12cbe",
   "metadata": {},
   "outputs": [
    {
     "data": {
      "text/latex": [
       "$\\displaystyle 0.373205080756888$"
      ],
      "text/plain": [
       "0.373205080756888"
      ]
     },
     "execution_count": 18,
     "metadata": {},
     "output_type": "execute_result"
    }
   ],
   "source": [
    "r = [N(eig_mod) for eig_mod in eigen_modulus][0]\n",
    "r"
   ]
  },
  {
   "cell_type": "code",
   "execution_count": 19,
   "id": "3adec762-d49f-4b07-b16e-c8146b8d431d",
   "metadata": {},
   "outputs": [
    {
     "data": {
      "text/latex": [
       "$\\displaystyle \\frac{2}{5}$"
      ],
      "text/plain": [
       "2/5"
      ]
     },
     "execution_count": 19,
     "metadata": {},
     "output_type": "execute_result"
    }
   ],
   "source": [
    "linear_markov_dobrushin_one_minus_alpha(p_lin)"
   ]
  },
  {
   "cell_type": "markdown",
   "id": "a91f19d4-df04-4867-bfcf-33518b5138ee",
   "metadata": {},
   "source": [
    "Let us calculate the values $1-\\alpha_2, 1-\\alpha_3, 1-\\alpha_4, 1-\\alpha_5$ compare them with $r^2, r^3, r^4, r^5$ respectively."
   ]
  },
  {
   "cell_type": "code",
   "execution_count": 20,
   "id": "75eae813-9aa2-41e9-99b8-22fe8cae10a4",
   "metadata": {},
   "outputs": [
    {
     "data": {
      "text/plain": [
       "[0.160000000000000,\n",
       " 0.0620000000000000,\n",
       " 0.0236000000000000,\n",
       " 0.00890000000000000]"
      ]
     },
     "execution_count": 20,
     "metadata": {},
     "output_type": "execute_result"
    }
   ],
   "source": [
    "[N(linear_markov_dobrushin_one_minus_alpha(p_lin ** y)) for y in range(2,6)]"
   ]
  },
  {
   "cell_type": "code",
   "execution_count": 21,
   "id": "035c5e08-4883-4888-bee0-93e1b5cf583a",
   "metadata": {},
   "outputs": [
    {
     "data": {
      "text/plain": [
       "[0.139282032302755,\n",
       " 0.0519807621135332,\n",
       " 0.0193994845223857,\n",
       " 0.00723998618781895]"
      ]
     },
     "execution_count": 21,
     "metadata": {},
     "output_type": "execute_result"
    }
   ],
   "source": [
    "[r ** y for y in range(2,6)]"
   ]
  },
  {
   "cell_type": "markdown",
   "id": "bdd7d2a1-4590-4a68-9f74-78935e92d8f1",
   "metadata": {},
   "source": [
    "Therefore, $r \\approx 0.3732$, $r^2 \\approx 0.139282$, $r^3 \\approx 0.05198$, $r^4 \\approx 0.019399$, $r^5 \\approx 0.007239986$, $1- \\bar\\alpha = 0.4$, $1- \\bar\\alpha_2 = 0.16$, $1 - \\bar\\alpha_3 = 0.062$, $1 - \\bar\\alpha_4 = 0.0236$, $1 - \\bar\\alpha_5 = 0.0089$.\n",
    "We have $r < 1 - \\bar\\alpha = 1 - \\alpha$, $r^2 < 1-\\bar\\alpha_2$, $r^3 < 1-\\bar\\alpha_3$, $r^4 < 1-\\bar\\alpha_4$, $r^5 < 1-\\bar\\alpha_5$. Again, the new assumption based on the spectral radius approach for linear MC and on nonlinear small perturbations is weaker that each of the MD conditions, at least, for $k=1, \\ldots, 5$. "
   ]
  }
 ],
 "metadata": {
  "kernelspec": {
   "display_name": "Python 3",
   "language": "python",
   "name": "python3"
  },
  "language_info": {
   "codemirror_mode": {
    "name": "ipython",
    "version": 3
   },
   "file_extension": ".py",
   "mimetype": "text/x-python",
   "name": "python",
   "nbconvert_exporter": "python",
   "pygments_lexer": "ipython3",
   "version": "3.10.5"
  },
   "title": "On convergence rate bounds for a class of nonlinear Markov chains",
   "authors": [
  { "name": "Aleksandr Shchegolev" },
  { "name": "Alexander Veretennikov" }
]
 },
 "nbformat": 4,
 "nbformat_minor": 5
}
